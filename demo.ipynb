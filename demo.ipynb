{
 "cells": [
  {
   "cell_type": "code",
   "execution_count": 1,
   "metadata": {
    "collapsed": true
   },
   "outputs": [],
   "source": [
    "import numpy as np\n",
    "import tensorflow as tf\n",
    "import tensorflow.contrib.layers as layers\n",
    "import matplotlib.pyplot as plt\n",
    "from sklearn.feature_selection import mutual_info_regression"
   ]
  },
  {
   "cell_type": "code",
   "execution_count": 2,
   "metadata": {
    "collapsed": true
   },
   "outputs": [],
   "source": [
    "%matplotlib inline"
   ]
  },
  {
   "cell_type": "code",
   "execution_count": 3,
   "metadata": {
    "collapsed": false
   },
   "outputs": [
    {
     "name": "stdout",
     "output_type": "stream",
     "text": [
      "0.659147527791\n",
      "0.658305248838\n"
     ]
    }
   ],
   "source": [
    "# data\n",
    "var = 0.2\n",
    "def func(x):\n",
    "    return x\n",
    "\n",
    "def gen_x():\n",
    "    return np.sign(np.random.normal(0.,1.,[data_size,1]))\n",
    "\n",
    "def gen_y(x):\n",
    "    return func(x)+np.random.normal(0.,np.sqrt(var),[data_size,1])\n",
    "\n",
    "data_size = 20000\n",
    "x=gen_x()\n",
    "y=gen_y(x)\n",
    "p_y_x=np.exp(-(y-x)**2/(2*var))\n",
    "p_y_x_minus=np.exp(-(y+1)**2/(2*var))\n",
    "p_y_x_plus=np.exp(-(y-1)**2/(2*var))\n",
    "mi=np.average(np.log(p_y_x/(0.5*p_y_x_minus+0.5*p_y_x_plus)))\n",
    "print(mi)\n",
    "mi_numerical = mutual_info_regression(x.reshape(-1, 1), y.ravel())[0]\n",
    "print(mi_numerical)\n"
   ]
  },
  {
   "cell_type": "code",
   "execution_count": 4,
   "metadata": {
    "collapsed": false
   },
   "outputs": [
    {
     "name": "stdout",
     "output_type": "stream",
     "text": [
      "WARNING:tensorflow:From /home/chezhu/anaconda3/lib/python3.6/site-packages/tensorflow/python/framework/op_def_library.py:263: colocate_with (from tensorflow.python.framework.ops) is deprecated and will be removed in a future version.\n",
      "Instructions for updating:\n",
      "Colocations handled automatically by placer.\n",
      "WARNING:tensorflow:From /home/chezhu/anaconda3/lib/python3.6/site-packages/tensorflow/python/ops/math_ops.py:3066: to_int32 (from tensorflow.python.ops.math_ops) is deprecated and will be removed in a future version.\n",
      "Instructions for updating:\n",
      "Use tf.cast instead.\n"
     ]
    }
   ],
   "source": [
    "## Tensorflow version for MINE (https://github.com/mzgubic/MINE/blob/master/MINE_in_TF.ipynb)\n",
    "\n",
    "H=20\n",
    "n_epochs = 200\n",
    "data_size = 20000\n",
    "\n",
    "def MINE(x_in, y_in):\n",
    "    \n",
    "    # shuffle and concatenate\n",
    "    y_shuffle = tf.random_shuffle(y_in)\n",
    "    x_conc = tf.concat([x_in, x_in], axis=0)\n",
    "    y_conc = tf.concat([y_in, y_shuffle], axis=0)\n",
    "    \n",
    "    # propagate the forward pass\n",
    "    layerx = layers.linear(x_conc, H)\n",
    "    layery = layers.linear(y_conc, H)\n",
    "    layer2 = tf.nn.relu(layerx + layery)\n",
    "    output = layers.linear(layer2, 1)\n",
    "    \n",
    "    # split in T_xy and T_x_y predictions\n",
    "    N_samples = tf.shape(x_in)[0]\n",
    "    T_xy = output[:N_samples]\n",
    "    T_x_y = output[N_samples:]\n",
    "    \n",
    "    # compute the negative loss (maximise loss == minimise -loss)\n",
    "    neg_loss = -(tf.reduce_mean(T_xy, axis=0) - tf.math.log(tf.reduce_mean(tf.math.exp(T_x_y))))\n",
    "    opt = tf.train.AdamOptimizer(learning_rate=0.01).minimize(neg_loss)\n",
    "\n",
    "    return neg_loss, opt\n",
    "\n",
    "# prepare the placeholders for inputs\n",
    "x_in = tf.placeholder(tf.float32, [None, 1], name='x_in')\n",
    "y_in = tf.placeholder(tf.float32, [None, 1], name='y_in')\n",
    "\n",
    "# make the loss and optimisation graphs\n",
    "neg_loss, opt = MINE(x_in, y_in)\n",
    "\n",
    "# start the session\n",
    "sess = tf.InteractiveSession()\n",
    "sess.run(tf.global_variables_initializer())\n",
    "\n",
    "# train\n",
    "MIs = []\n",
    "for epoch in range(n_epochs):\n",
    "    \n",
    "    # generate the data\n",
    "    x_sample=gen_x()\n",
    "    y_sample=gen_y(x_sample)\n",
    "    \n",
    "    # perform the training step\n",
    "    feed_dict = {x_in:x_sample, y_in:y_sample}\n",
    "    _, neg_l = sess.run([opt, neg_loss], feed_dict=feed_dict)\n",
    "    \n",
    "    # save the loss\n",
    "    MIs.append(-neg_l)"
   ]
  },
  {
   "cell_type": "code",
   "execution_count": 5,
   "metadata": {
    "collapsed": false
   },
   "outputs": [
    {
     "name": "stderr",
     "output_type": "stream",
     "text": [
      "Using TensorFlow backend.\n"
     ]
    }
   ],
   "source": [
    "from mine import MINE"
   ]
  },
  {
   "cell_type": "code",
   "execution_count": 6,
   "metadata": {
    "collapsed": false
   },
   "outputs": [],
   "source": [
    "mine = MINE(x_dim=1, y_dim=1)"
   ]
  },
  {
   "cell_type": "code",
   "execution_count": 7,
   "metadata": {
    "collapsed": false
   },
   "outputs": [],
   "source": [
    "fit_history, mutual_info = mine.fit(x_sample, y_sample, epochs=200, verbose=0)"
   ]
  },
  {
   "cell_type": "code",
   "execution_count": 8,
   "metadata": {
    "collapsed": false
   },
   "outputs": [
    {
     "name": "stderr",
     "output_type": "stream",
     "text": [
      "/home/chezhu/anaconda3/lib/python3.6/site-packages/matplotlib/figure.py:403: UserWarning: matplotlib is currently using a non-GUI backend, so cannot show the figure\n",
      "  \"matplotlib is currently using a non-GUI backend, \"\n"
     ]
    },
    {
     "data": {
      "image/png": "[encoded data removed]",
      "text/plain": [
       "<matplotlib.figure.Figure at 0x2ad0bee0d278>"
      ]
     },
     "metadata": {},
     "output_type": "display_data"
    }
   ],
   "source": [
    "fig, ax = plt.subplots()\n",
    "ax.plot([0, len(MIs)], [mi,mi], label='True Mutual Information')\n",
    "ax.plot(range(len(MIs)), MIs, label='MINE Tensorflow estimate')\n",
    "ax.plot(range(len(fit_history)), [-i for i in fit_history], label='MINE Keras estimate' )\n",
    "ax.set_xlabel('training steps')\n",
    "ax.legend(loc='best')\n",
    "fig.show()"
   ]
  },
  {
   "cell_type": "code",
   "execution_count": null,
   "metadata": {
    "collapsed": true
   },
   "outputs": [],
   "source": []
  }
 ],
 "metadata": {
  "kernelspec": {
   "display_name": "Python 3",
   "language": "python",
   "name": "python3"
  },
  "language_info": {
   "codemirror_mode": {
    "name": "ipython",
    "version": 3
   },
   "file_extension": ".py",
   "mimetype": "text/x-python",
   "name": "python",
   "nbconvert_exporter": "python",
   "pygments_lexer": "ipython3",
   "version": "3.6.0"
  }
 },
 "nbformat": 4,
 "nbformat_minor": 2
}
